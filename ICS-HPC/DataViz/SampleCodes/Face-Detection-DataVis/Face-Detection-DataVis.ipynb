{
 "cells": [
  {
   "attachments": {},
   "cell_type": "markdown",
   "id": "3364d029",
   "metadata": {},
   "source": [
    "## Fast Human Face recognition and Face meshing in video considering aspects of Data Visualization"
   ]
  },
  {
   "attachments": {},
   "cell_type": "markdown",
   "id": "e44d3048",
   "metadata": {},
   "source": [
    "Note: The path **/usr/local/mypython/lib** in the following sections may be different for your installation."
   ]
  },
  {
   "cell_type": "markdown",
   "id": "efad7206",
   "metadata": {},
   "source": [
    "________________________________________________________________________________________________________________________________\n",
    "________________________________________________________________________________________________________________________________"
   ]
  },
  {
   "cell_type": "markdown",
   "id": "2f8b96b2",
   "metadata": {},
   "source": [
    "### 1) Install the required packages\n",
    "#### 1_1) Upgrade pip :"
   ]
  },
  {
   "cell_type": "code",
   "execution_count": 1,
   "id": "61d1d8cf",
   "metadata": {},
   "outputs": [
    {
     "name": "stdout",
     "output_type": "stream",
     "text": [
      "Requirement already satisfied: pip in /usr/local/mypython/lib/site-packages (23.0)\n",
      "Collecting pip\n",
      "  Downloading pip-23.0.1-py3-none-any.whl (2.1 MB)\n",
      "     ---------------------------------------- 2.1/2.1 MB 67.5 kB/s eta 0:00:00\n"
     ]
    },
    {
     "name": "stderr",
     "output_type": "stream",
     "text": [
      "[notice] A new release of pip is available: 23.0 -> 23.0.1\n",
      "[notice] To update, run: python.exe -m pip install --upgrade pip\n"
     ]
    }
   ],
   "source": [
    "! pip install --upgrade pip"
   ]
  },
  {
   "cell_type": "markdown",
   "id": "b8bf5999",
   "metadata": {},
   "source": [
    "#### 1_2) Install Opencv :"
   ]
  },
  {
   "cell_type": "code",
   "execution_count": 2,
   "id": "97333514",
   "metadata": {},
   "outputs": [
    {
     "name": "stdout",
     "output_type": "stream",
     "text": [
      "Requirement already satisfied: opencv-python in /usr/local/mypython/lib/site-packages (4.7.0.68)\n",
      "Requirement already satisfied: numpy>=1.17.3 in /usr/local/mypython/lib/site-packages (from opencv-python) (1.19.5)\n"
     ]
    },
    {
     "name": "stderr",
     "output_type": "stream",
     "text": [
      "[notice] A new release of pip is available: 23.0 -> 23.0.1\n",
      "[notice] To update, run: python.exe -m pip install --upgrade pip\n"
     ]
    }
   ],
   "source": [
    "! pip install opencv-python"
   ]
  },
  {
   "cell_type": "markdown",
   "id": "2ed4cd90",
   "metadata": {},
   "source": [
    "#### 1_3) Install  mediapipe : "
   ]
  },
  {
   "cell_type": "code",
   "execution_count": 3,
   "id": "4ba4a472",
   "metadata": {},
   "outputs": [
    {
     "name": "stdout",
     "output_type": "stream",
     "text": [
      "Requirement already satisfied: mediapipe in /usr/local/mypython/lib/site-packages (0.9.1.0)\n",
      "Requirement already satisfied: numpy in /usr/local/mypython/lib/site-packages (from mediapipe) (1.19.5)\n",
      "Requirement already satisfied: attrs>=19.1.0 in /usr/local/mypython/lib/site-packages (from mediapipe) (21.4.0)\n",
      "Requirement already satisfied: protobuf<4,>=3.11 in /usr/local/mypython/lib/site-packages (from mediapipe) (3.19.1)\n",
      "Requirement already satisfied: absl-py in /usr/local/mypython/lib/site-packages (from mediapipe) (1.4.0)\n",
      "Requirement already satisfied: opencv-contrib-python in /usr/local/mypython/lib/site-packages (from mediapipe) (4.7.0.68)\n",
      "Requirement already satisfied: flatbuffers>=2.0 in /usr/local/mypython/lib/site-packages (from mediapipe) (23.1.21)\n",
      "Requirement already satisfied: matplotlib in /usr/local/mypython/lib/site-packages (from mediapipe) (3.6.2)\n",
      "Requirement already satisfied: python-dateutil>=2.7 in /usr/local/mypython/lib/site-packages (from matplotlib->mediapipe) (2.8.2)\n",
      "Requirement already satisfied: cycler>=0.10 in /usr/local/mypython/lib/site-packages (from matplotlib->mediapipe) (0.11.0)\n",
      "Requirement already satisfied: pillow>=6.2.0 in /usr/local/mypython/lib/site-packages (from matplotlib->mediapipe) (9.0.1)\n",
      "Requirement already satisfied: packaging>=20.0 in /usr/local/mypython/lib/site-packages (from matplotlib->mediapipe) (21.3)\n"
     ]
    },
    {
     "name": "stderr",
     "output_type": "stream",
     "text": [
      "[notice] A new release of pip is available: 23.0 -> 23.0.1\n",
      "[notice] To update, run: python.exe -m pip install --upgrade pip\n"
     ]
    },
    {
     "name": "stdout",
     "output_type": "stream",
     "text": [
      "Requirement already satisfied: kiwisolver>=1.0.1 in /usr/local/mypython/lib/site-packages (from matplotlib->mediapipe) (1.3.2)\n",
      "Requirement already satisfied: contourpy>=1.0.1 in /usr/local/mypython/lib/site-packages (from matplotlib->mediapipe) (1.0.6)\n",
      "Requirement already satisfied: pyparsing>=2.2.1 in /usr/local/mypython/lib/site-packages (from matplotlib->mediapipe) (3.0.4)\n",
      "Requirement already satisfied: fonttools>=4.22.0 in /usr/local/mypython/lib/site-packages (from matplotlib->mediapipe) (4.25.0)\n",
      "Requirement already satisfied: six>=1.5 in /usr/local/mypython/lib/site-packages (from python-dateutil>=2.7->matplotlib->mediapipe) (1.16.0)\n"
     ]
    }
   ],
   "source": [
    "! pip install mediapipe"
   ]
  },
  {
   "cell_type": "markdown",
   "id": "35b00149",
   "metadata": {},
   "source": [
    "________________________________________________________________________________________________________________________________"
   ]
  },
  {
   "cell_type": "markdown",
   "id": "ac11637d",
   "metadata": {},
   "source": [
    "### 2) Import the required modules \n",
    "#### 2_1) Import Numpy Module :\n",
    "For Use numpy.array and ... ."
   ]
  },
  {
   "cell_type": "code",
   "execution_count": 1,
   "id": "f8bde775",
   "metadata": {},
   "outputs": [],
   "source": [
    "import numpy as np"
   ]
  },
  {
   "cell_type": "markdown",
   "id": "b793e3f1",
   "metadata": {},
   "source": [
    "#### 2_2) Import OpenCV Module :\n",
    "For Use cv2 (This Module is so Powerful to work with Video and Image.)"
   ]
  },
  {
   "cell_type": "code",
   "execution_count": 2,
   "id": "0d22f081",
   "metadata": {},
   "outputs": [],
   "source": [
    "import cv2"
   ]
  },
  {
   "cell_type": "markdown",
   "id": "08234741",
   "metadata": {},
   "source": [
    "#### 2_3) Import Mediapipe Module :\n",
    "This module is very efficient for fast extracting landmark points from the face, fast face detection, fast face meshing, etc."
   ]
  },
  {
   "cell_type": "code",
   "execution_count": 3,
   "id": "eb9ea8b1",
   "metadata": {},
   "outputs": [],
   "source": [
    "import mediapipe as mp"
   ]
  },
  {
   "cell_type": "markdown",
   "id": "38344aba",
   "metadata": {},
   "source": [
    "#### 2_4) Import _normalized_to_pixel_coordinates Module :\n",
    "This module is used to map normalized coordinates to pixel coordinates."
   ]
  },
  {
   "cell_type": "code",
   "execution_count": 4,
   "id": "1eb4d20f",
   "metadata": {},
   "outputs": [],
   "source": [
    "from mediapipe.python.solutions.drawing_utils import _normalized_to_pixel_coordinates\n"
   ]
  },
  {
   "cell_type": "markdown",
   "id": "cdbc8fb4",
   "metadata": {},
   "source": [
    "#### 2_5) Import Math Module :\n",
    "This module was used to calculate the distance between the specified pixels. Using this module, the Euclidean distance between the specified pixels was calculated."
   ]
  },
  {
   "cell_type": "code",
   "execution_count": 5,
   "id": "3e4ad9d9",
   "metadata": {},
   "outputs": [],
   "source": [
    "import math"
   ]
  },
  {
   "cell_type": "markdown",
   "id": "c523af19",
   "metadata": {},
   "source": [
    "________________________________________________________________________________________________________________________________"
   ]
  },
  {
   "cell_type": "markdown",
   "id": "4e7f61ff",
   "metadata": {},
   "source": [
    "### 3) Definition of required objects \n",
    "* Object (mp_drawing was) created to draw the mesh on the face.\n",
    "* Object (mp_drawing_styles) was created to define the communication style of landmark points in the mesh.\n",
    "* Object (mp_face_mesh) was created using face_mesh class."
   ]
  },
  {
   "cell_type": "code",
   "execution_count": 6,
   "id": "7b918a29",
   "metadata": {},
   "outputs": [],
   "source": [
    "mp_drawing = mp.solutions.drawing_utils\n",
    "mp_drawing_styles = mp.solutions.drawing_styles\n",
    "mp_face_mesh = mp.solutions.face_mesh"
   ]
  },
  {
   "cell_type": "markdown",
   "id": "97747575",
   "metadata": {},
   "source": [
    "### 4) Polynomial Regression\n",
    "Building a model using Polynomial Regression to approximate the face to camera distance.\n",
    "* Degree of the fitting polynomial = 10.\n",
    "* 29 points that I got manually. \n",
    "* For each point, x = pixel distance between two eyes and y = distance of face ot camera in centimeters."
   ]
  },
  {
   "cell_type": "code",
   "execution_count": 7,
   "id": "8f7ad578",
   "metadata": {},
   "outputs": [],
   "source": [
    "x=[400,235,182,142,122,103,97,81,70,65,60,55,51,49,45,43,41,39,36,35,33,31.5,30.5,29,28,27,26,25,24]\n",
    "x[:] = [t/7 for t in x]\n",
    "y=[10,15,20,25,30,35,40,45,50,55,60,65,70,75,80,85,90,95,100,105,110,115,120,125,130,135,140,145,150]\n",
    "Facetocamera = np.poly1d(np.polyfit(x, y, 10))"
   ]
  },
  {
   "cell_type": "markdown",
   "id": "5e24b411",
   "metadata": {},
   "source": [
    "________________________________________________________________________________________________________________________________"
   ]
  },
  {
   "cell_type": "markdown",
   "id": "a53346dc",
   "metadata": {},
   "source": [
    "### 5) Cube :\n",
    "Creat cube."
   ]
  },
  {
   "cell_type": "code",
   "execution_count": 8,
   "id": "6b724e0c",
   "metadata": {},
   "outputs": [],
   "source": [
    "def cube(imagg,mul,H,W,HH,WW,T):\n",
    "    image = cv2.line(imagg,(round(mul*16/H)+HH,round(mul*82/W)+WW),(round(mul*250/H)+HH,round(mul*23/W)+WW), color_W, T)\n",
    "    image = cv2.line(imagg,(round(mul*16/H)+HH,round(mul*82/W)+WW),(round(mul*122/H)+HH,round(mul*165/W)+WW), color_W, T)\n",
    "    image = cv2.line(imagg,(round(mul*16/H)+HH,round(mul*82/W)+WW),(round(mul*57/H)+HH,round(mul*305/W)+WW), color_W, T)\n",
    "\n",
    "    image = cv2.line(imagg,(round(mul*384/H)+HH,round(mul*322/W)+WW),(round(mul*366/H)+HH,round(mul*91/W)+WW), color_W, T)\n",
    "    image = cv2.line(imagg,(round(mul*384/H)+HH,round(mul*322/W)+WW),(round(mul*270/H)+HH,round(mul*234/W)+WW), color_W, T)\n",
    "    image = cv2.line(imagg,(round(mul*57/H)+HH,round(mul*305/W)+WW),(round(mul*159/H)+HH,round(mul*410/W)+WW), color_W, T)\n",
    "\n",
    "    image = cv2.line(imagg,(round(mul*122/H)+HH,round(mul*165/W)+WW),(round(mul*366/H)+HH,round(mul*91/W)+WW), color_W, T)\n",
    "    image = cv2.line(imagg,(round(mul*122/H)+HH,round(mul*165/W)+WW),(round(mul*159/H)+HH,round(mul*410/W)+WW), color_W, T)\n",
    "    image = cv2.line(imagg,(round(mul*159/H)+HH,round(mul*410/W)+WW),(round(mul*384/H)+HH,round(mul*322/W)+WW), color_W, T)\n",
    "\n",
    "    image = cv2.line(imagg,(round(mul*250/H)+HH,round(mul*23/W)+WW),(round(mul*366/H)+HH,round(mul*91/W)+WW), color_W, T)\n",
    "    image = cv2.line(imagg,(round(mul*250/H)+HH,round(mul*23/W)+WW),(round(mul*270/H)+HH,round(mul*234/W)+WW), color_W, T)\n",
    "    image = cv2.line(imagg,(round(mul*270/H)+HH,round(mul*234/W)+WW),(round(mul*57/H)+HH,round(mul*305/W)+WW), color_W, T)\n"
   ]
  },
  {
   "cell_type": "markdown",
   "id": "0c1677d1",
   "metadata": {},
   "source": [
    "________________________________________________________________________________________________________________________________"
   ]
  },
  {
   "cell_type": "markdown",
   "id": "6ed670e5",
   "metadata": {},
   "source": [
    "### 6) Main Code \n",
    "* Section_1 : In the first section of the main code, the data type is entered. That is, if we want to use a webcam or use a pre-recorded video. And in the last part, the code for saving or not saving the output video is specified.\n",
    "* Section_2 : In the second section, the thickness and size of the mesh points are determined first. And then we set the mesh variables. Then we extract the video frames.\n",
    "* Section_3 : In the third section, we specify the mesh, contour and iris (eyes) on each frame according to the number of faces.\n",
    "* Section_4 : In the fourth section, we first get the coordinates of the two irises of each face, and then we get the distance between the two irises of the same face and the middle point of the iris of each face. The middle points of the irises are the center of the face, and the distance between the two irises of each face is proportional to the distance of the face from the camera.\n",
    "* Section_5 : In the fifth section, each face is numbered and a line is drawn between the centers of the faces, and the distance between each face and the next face is obtained in pixel units.\n",
    "* Section_6 : In the sixth section, additional arrangements are made and the frames are shown in full screen form after applying the previous sections."
   ]
  },
  {
   "cell_type": "code",
   "execution_count": 37,
   "id": "ccdf9227",
   "metadata": {},
   "outputs": [
    {
     "name": "stdout",
     "output_type": "stream",
     "text": [
      "Enter 1 To Use Webcam Input / Enter 2 To Use mp4 File Input : 2\n",
      "\"mp4\" File Name That Uploaded To Jupyter Home Page : Input_1.mp4\n",
      "Do you want to save result (y/n) : y\n",
      "Do you want Connect Center Of Each Face To Cernter Of Frame (y/n) : y\n",
      "Video Result Saved.\n"
     ]
    }
   ],
   "source": [
    "# Section_1 :\n",
    "p = input('Enter 1 To Use Webcam Input / Enter 2 To Use mp4 File Input : ')\n",
    "try:\n",
    "    if p=='1':\n",
    "        cap = cv2.VideoCapture(0)\n",
    "    if p=='2':\n",
    "        pp = input('\"mp4\" File Name That Uploaded To Jupyter Home Page : ')\n",
    "        cap = cv2.VideoCapture(pp)\n",
    "except:\n",
    "  print(\"Not Valid\")\n",
    "ppp = input('Do you want to save result (y/n) : ')\n",
    "center_assinge = input('Do you want Connect Center Of Each Face To Cernter Of Frame (y/n) : ')\n",
    "frame_width = int(cap.get(3))\n",
    "frame_height = int(cap.get(4))\n",
    "if center_assinge == 'y':\n",
    "    if ppp == 'y':\n",
    "        size = (round(3*int(cap.get(3))/2), int(cap.get(4)))\n",
    "        frame_out = cv2.VideoWriter('result.mp4', \n",
    "                                 cv2.VideoWriter_fourcc(*'MP4V'),\n",
    "                                 10, size)\n",
    "else:\n",
    "    if ppp == 'y':\n",
    "        size = (frame_width,frame_height)\n",
    "        frame_out = cv2.VideoWriter('result.mp4', \n",
    "                                     cv2.VideoWriter_fourcc(*'MP4V'),\n",
    "                                     10, size)\n",
    "###############################################################################\n",
    "# Section_2 :\n",
    "drawing_spec = mp_drawing.DrawingSpec(thickness=1, circle_radius=1)\n",
    "with mp_face_mesh.FaceMesh(\n",
    "    max_num_faces=100,\n",
    "    refine_landmarks=True,\n",
    "    min_detection_confidence=0.5,\n",
    "    min_tracking_confidence=0.5) as face_mesh:\n",
    "    while cap.isOpened():\n",
    "        success, image = cap.read()\n",
    "        if not success:\n",
    "            print(\"Video Finish.\")\n",
    "          ### If loading a video, use 'break' instead of 'continue'.\n",
    "            if p=='1':\n",
    "                continue\n",
    "            else :\n",
    "                break    \n",
    "        ### To improve performance, optionally mark the image as not writeable to\n",
    "        ### pass by reference.\n",
    "        image.flags.writeable = False\n",
    "        image = cv2.cvtColor(image, cv2.COLOR_BGR2RGB)\n",
    "        if p=='1':\n",
    "            image = cv2.flip(image, 1)\n",
    "        results = face_mesh.process(image)\n",
    "        ### Draw the face mesh annotations on the image.\n",
    "        image.flags.writeable = True\n",
    "        image = cv2.cvtColor(image, cv2.COLOR_RGB2BGR)\n",
    "        image_rows, image_cols, _ = image.shape\n",
    "####################################################################################\n",
    "# Section_3:\n",
    "        if results.multi_face_landmarks:\n",
    "          lii = []\n",
    "          liii = []\n",
    "          c=1\n",
    "          list_Iris = []\n",
    "          for face_landmarks in results.multi_face_landmarks:\n",
    "            mp_drawing.draw_landmarks(\n",
    "                image=image,\n",
    "                landmark_list=face_landmarks,\n",
    "                connections=mp_face_mesh.FACEMESH_TESSELATION,\n",
    "                landmark_drawing_spec=None,\n",
    "                connection_drawing_spec=mp_drawing_styles\n",
    "                .get_default_face_mesh_tesselation_style())\n",
    "            mp_drawing.draw_landmarks(\n",
    "                image=image,\n",
    "                landmark_list=face_landmarks,\n",
    "                connections=mp_face_mesh.FACEMESH_CONTOURS,\n",
    "                landmark_drawing_spec=None,\n",
    "                connection_drawing_spec=mp_drawing_styles\n",
    "                .get_default_face_mesh_contours_style())\n",
    "            mp_drawing.draw_landmarks(\n",
    "                image=image,\n",
    "                landmark_list=face_landmarks,\n",
    "                connections=mp_face_mesh.FACEMESH_IRISES,\n",
    "                landmark_drawing_spec=None,\n",
    "                connection_drawing_spec=mp_drawing_styles\n",
    "                .get_default_face_mesh_iris_connections_style())\n",
    "###############################################################################\n",
    "# Section_4 :\n",
    "            radius = 3\n",
    "            color_C = (0, 255, 255)\n",
    "            color_B = (0, 0, 255)\n",
    "            color_R = (255, 0, 0)\n",
    "            color_Y = (255, 255, 0)\n",
    "            color_O = (0, 104, 255)\n",
    "            color_BR = (44, 90, 130)\n",
    "            color_W = (255,255,255)\n",
    "            thickness = 6\n",
    "            li = []\n",
    "            \n",
    "            imagg = np.zeros([frame_height,round(3*frame_width/2),3],dtype=np.uint8)\n",
    "            imagg.fill(0)\n",
    "            frame_height_1=2*frame_height\n",
    "            frame_width_1=2*frame_width\n",
    "            \n",
    "            for idx in mp_face_mesh.FACEMESH_IRISES:\n",
    "                (xxx,yyy) = idx\n",
    "                XX = face_landmarks.landmark[xxx].x\n",
    "                YY = face_landmarks.landmark[yyy].y\n",
    "                pix = _normalized_to_pixel_coordinates(XX,YY, image_cols,image_rows)\n",
    "                li.append(pix)\n",
    "            if li[0]!=None and li[4]!=None :\n",
    "                (x1,y1) = li[0]\n",
    "                (x2,y2) = li[4]\n",
    "                average_point = (round(abs(x1-x2)/2)+x2,round(abs(y1-y2)/2)+y2) \n",
    "                list_Iris.append(math.dist(li[0],li[4]))\n",
    "                lii.append(average_point)\n",
    "                image = cv2.circle(image, average_point, radius, color_C, thickness)\n",
    "                cv2.putText(image, '{}'.format(c), average_point,cv2.FONT_HERSHEY_SIMPLEX, 0.7, color_B, 2)\n",
    "                c=c+1\n",
    "        ### The distance between the face and the camera :\n",
    "        for j in range(len(list_Iris)):\n",
    "            cv2.putText(image, 'FaceTOcamRank:',\n",
    "                        (round(frame_width-220),52),cv2.FONT_HERSHEY_SIMPLEX,\n",
    "                        0.7, color_BR, 2)\n",
    "            cv2.putText(image, 'P_{}) dis ='.format(j+1)+' {}'.format(round(Facetocamera(list_Iris[j]/7)))+'Cm',\n",
    "                        (round(frame_width-220),50+22*(j+1)),cv2.FONT_HERSHEY_SIMPLEX, 0.7, color_BR, 2)\n",
    "        image = cv2.rectangle(image, (round(frame_width-225),34), (round(frame_width-5),50+27*(j+1)),color_BR, 2)\n",
    "##############################################################################\n",
    "# Section_5 :\n",
    "        for i in range(len(lii)-1):\n",
    "            image = cv2.line(image, lii[i], lii[i+1], color_Y, 3)\n",
    "            (x11,y11) = lii[i]\n",
    "            (x22,y22) = lii[i+1] \n",
    "            cv2.putText(image, 'Face Distance :', (5,20),cv2.FONT_HERSHEY_SIMPLEX, 0.7, color_Y, 2)\n",
    "            cv2.putText(image, '{})'.format(i+1)+'{}to'.format(i+1)+'{}'.format(i+2)+': ',\n",
    "                        (5,22+25*(i+1)),cv2.FONT_HERSHEY_SIMPLEX, 0.7, color_Y, 2)\n",
    "            cv2.putText(image, '{}'.format(round(math.dist(lii[i],lii[i+1]))), (90,22+25*(i+1)),\n",
    "                        cv2.FONT_HERSHEY_SIMPLEX, 0.7, color_Y, 2)\n",
    "            cv2.putText(image, 'Pixels', (140,22+25*(i+1)),cv2.FONT_HERSHEY_SIMPLEX,\n",
    "                        0.4, color_Y, 1)\n",
    "            liii.append(round(math.dist(lii[i],lii[i+1])))\n",
    "        cv2.putText(image, 'Num_Detect_Face: {}'.format(len(lii)),(round(frame_width-200),20),\n",
    "                    cv2.FONT_HERSHEY_SIMPLEX, 0.55, color_O, 2)\n",
    "        image = cv2.rectangle(image, (round(frame_width-205),0), (round(frame_width-5),30),\n",
    "                              color_O, 2)\n",
    "        if center_assinge == 'y':\n",
    "            for h in range(len(lii)):\n",
    "                image = cv2.line(image, lii[h],(round(frame_width/2), round(frame_height/2)), color_C, 3)\n",
    "                cv2.putText(image, 'Dis To Cent :', (5,50+25*(len(lii)-1)),cv2.FONT_HERSHEY_SIMPLEX, 0.7, color_C, 2)\n",
    "                cv2.putText(image, '{})'.format(h+1)+'{}to'.format(h+1)+' C: ',\n",
    "                        (5,50+25*(h+len(lii))),cv2.FONT_HERSHEY_SIMPLEX, 0.7, color_C, 2)\n",
    "                cv2.putText(image, '{}'.format(round(math.dist(lii[h],(round(frame_width/2), round(frame_height/2))))),\n",
    "                            (100,50+25*(h+len(lii))),cv2.FONT_HERSHEY_SIMPLEX, 0.7,color_C, 2)\n",
    "                cv2.putText(image, 'Pixels', (150,50+25*(h+len(lii))),cv2.FONT_HERSHEY_SIMPLEX,\n",
    "                        0.4, color_C, 1)\n",
    "        if center_assinge == 'y':\n",
    "            image = cv2.circle(image, (round(frame_width/2), round(frame_height/2)), radius, color_C, 6)\n",
    "            image = cv2.rectangle(image, (1,30+26*(len(lii)-1)), (190,48+28*(len(lii)+h)),color_C, 2)\n",
    "        if len(lii)>1:\n",
    "            image = cv2.rectangle(image, (1,1), (190,25+27*(len(lii)-1)),color_Y, 2)\n",
    "##############################################################################\n",
    "# Section_6 :\n",
    "        cv2.putText(image, '!Press Q key To Exit!', (round((frame_width/2)-100),round(frame_height-10)),\n",
    "                    cv2.FONT_HERSHEY_SIMPLEX, 0.7, (0, 0, 255), 2)\n",
    "        image = cv2.rectangle(image, (round((frame_width/2)-105),round(frame_height-30)),\n",
    "                              (round((frame_width/2)+135),round(frame_height-2)),(255, 0, 0), 2)\n",
    "        \n",
    "        ### if you enable center assigning, azimuth windows will appear :\n",
    "        if center_assinge == 'y':\n",
    "            imagg[:frame_height,round(frame_width/2):round(3*frame_width/2),:3] = image.copy()\n",
    "            HH = round(frame_width/2)\n",
    "            WW = round(frame_height/3)\n",
    "            (H,W,C) = imagg.shape\n",
    "            mul = 100\n",
    "            T = 1\n",
    "            ### North :\n",
    "            imagg = cv2.rectangle(imagg,(2,2),(HH-5,WW+2),color_W, 2)\n",
    "            cv2.putText(imagg, 'North : ', (5,20),cv2.FONT_HERSHEY_SIMPLEX, 0.7\n",
    "                            , color_B, 2)\n",
    "            cube(imagg,mul,H,W,0,round(WW/2)+15,T)\n",
    "            imagg = cv2.circle(imagg, (round(mul*88/H),round(mul*238/W)+round(WW/2)+15), radius, color_B, 8)  \n",
    "            ### West :\n",
    "            imagg = cv2.rectangle(imagg,(2,WW+6),(HH-5,2*WW+2),color_W, 2)\n",
    "            cv2.putText(imagg, 'West : ', (5,25+WW),cv2.FONT_HERSHEY_SIMPLEX, 0.7\n",
    "                            , color_B, 2)\n",
    "            cube(imagg,mul,H,W,0,WW+round(WW/2)+15,T)\n",
    "            imagg = cv2.circle(imagg, (round(mul*247/H),round(mul*231/W)+10+WW+round(WW/2)+5), radius, color_B, 8)      \n",
    "            ### Zenith :\n",
    "            imagg = cv2.rectangle(imagg,(2,2*WW+6),(HH-5,3*WW),color_W, 2)\n",
    "            cv2.putText(imagg, 'Zenith : ', (5,25+2*WW),cv2.FONT_HERSHEY_SIMPLEX, 0.7\n",
    "                            , color_B, 2)\n",
    "            cube(imagg,mul,H,W,0,2*WW+round(WW/2)+15,T)\n",
    "            imagg = cv2.circle(imagg, (round(mul*181/H),round(mul*94/W)+10+2*WW+round(WW/2)+5), radius, color_B, 8)\n",
    "            ### :\n",
    "            for h in range(len(lii)):\n",
    "                (XH,YH) = lii[h]\n",
    "                ### North :\n",
    "                imagg = cv2.circle(imagg, (HH-WW,round((WW+6)/2)), 2, color_C, 2)\n",
    "                cv2.putText(imagg,'C',(HH-WW,round((WW+6)/2)),cv2.FONT_HERSHEY_SIMPLEX, 0.5\n",
    "                            , color_B, 1) \n",
    "                imagg = cv2.line(imagg, (HH-WW,round((WW+6)/2))\n",
    "                                 ,((XH-WW),round(YH/3)), color_C, T)\n",
    "                imagg = cv2.circle(imagg, ((XH-WW),round(YH/3)), 2, color_C, 2)\n",
    "                cv2.putText(imagg, '{}'.format(h+1), ((XH-WW),round(YH/3)),cv2.FONT_HERSHEY_SIMPLEX, 0.5\n",
    "                            , color_B, 1)    \n",
    "                ### West :\n",
    "                imagg = cv2.circle(imagg, (2,round((WW+6)/2)+WW), 2, color_C, 2)\n",
    "                cv2.putText(imagg,'C',(2,round((WW+6)/2)+WW),cv2.FONT_HERSHEY_SIMPLEX, 0.5\n",
    "                            , color_B, 1) \n",
    "                imagg = cv2.line(imagg, (2,round((WW+6)/2)+WW)\n",
    "                                 ,(HH-2*WW+round(Facetocamera(list_Iris[h]/7))\n",
    "                                   ,round(((WW+6)/2)+WW+(YH-round(frame_height/2))/3)), color_C, T)\n",
    "                imagg = cv2.circle(imagg, (HH-2*WW+round(Facetocamera(list_Iris[h]/7))\n",
    "                                   ,round(((WW+6)/2)+WW+(YH-round(frame_height/2))/3)), 2, color_C, 2)\n",
    "                cv2.putText(imagg, '{}'.format(h+1), (HH-2*WW+round(Facetocamera(list_Iris[h]/7))\n",
    "                                   ,round(((WW+6)/2)+WW+(YH-round(frame_height/2))/3)),cv2.FONT_HERSHEY_SIMPLEX, 0.5\n",
    "                            , color_B, 1)\n",
    "                ### Zenith :\n",
    "                imagg = cv2.circle(imagg, (2,round((WW+6)/2)+2*WW), 2, color_C, 2)\n",
    "                cv2.putText(imagg,'C',(2,round((WW+6)/2)+2*WW),cv2.FONT_HERSHEY_SIMPLEX, 0.5\n",
    "                            , color_B, 1) \n",
    "                imagg = cv2.line(imagg, (2,round((WW+6)/2)+2*WW)\n",
    "                                 ,(HH-2*WW+round(Facetocamera(list_Iris[h]/7))\n",
    "                                   ,round(((WW+6)/2)+2*WW+(XH-round(frame_width/2))/3)), color_C, T)\n",
    "                imagg = cv2.circle(imagg, (HH-2*WW+round(Facetocamera(list_Iris[h]/7))\n",
    "                                   ,round(((WW+6)/2)+2*WW+(XH-round(frame_width/2))/3)), 2, color_C, 2)\n",
    "                cv2.putText(imagg, '{}'.format(h+1), (HH-2*WW+round(Facetocamera(list_Iris[h]/7))\n",
    "                                   ,round(((WW+6)/2)+2*WW+(XH-round(frame_width/2))/3.5)),cv2.FONT_HERSHEY_SIMPLEX, 0.5\n",
    "                            , color_B, 1)\n",
    "            ### Plot :\n",
    "            cv2.namedWindow('MediaPipe Face Mesh', cv2.WND_PROP_FULLSCREEN)\n",
    "            cv2.setWindowProperty('MediaPipe Face Mesh',cv2.WND_PROP_FULLSCREEN,cv2.WINDOW_FULLSCREEN)\n",
    "            cv2.imshow('MediaPipe Face Mesh', imagg )\n",
    "            if ppp == 'y':\n",
    "                frame_out.write(imagg)\n",
    "            if cv2.waitKey(5) & 0xFF == ord('q'):\n",
    "                break  \n",
    "        else:\n",
    "            cv2.namedWindow('MediaPipe Face Mesh', cv2.WND_PROP_FULLSCREEN)\n",
    "            cv2.setWindowProperty('MediaPipe Face Mesh',cv2.WND_PROP_FULLSCREEN,cv2.WINDOW_FULLSCREEN)\n",
    "            cv2.imshow('MediaPipe Face Mesh', image )\n",
    "            if ppp == 'y':\n",
    "                frame_out.write(image)\n",
    "            if cv2.waitKey(5) & 0xFF == ord('q'):\n",
    "                break        \n",
    "\n",
    "if ppp == 'y':\n",
    "    print('Video Result Saved.')\n",
    "    frame_out.release()\n",
    "cap.release()\n",
    "cv2.destroyAllWindows()"
   ]
  },
  {
   "cell_type": "code",
   "execution_count": null,
   "id": "b1d41e94",
   "metadata": {},
   "outputs": [],
   "source": []
  }
 ],
 "metadata": {
  "kernelspec": {
   "display_name": "Python 3 (ipykernel)",
   "language": "python",
   "name": "python3"
  },
  "language_info": {
   "codemirror_mode": {
    "name": "ipython",
    "version": 3
   },
   "file_extension": ".py",
   "mimetype": "text/x-python",
   "name": "python",
   "nbconvert_exporter": "python",
   "pygments_lexer": "ipython3",
   "version": "3.10.5"
  }
 },
 "nbformat": 4,
 "nbformat_minor": 5
}
